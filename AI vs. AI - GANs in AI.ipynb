{
  "cells": [
    {
      "cell_type": "markdown",
      "metadata": {
        "id": "view-in-github",
        "colab_type": "text"
      },
      "source": [
        "<a href=\"https://colab.research.google.com/github/mohammadhossein-kr/AI-vs.-AI/blob/main/AI%20vs.%20AI%20-%20GANs%20in%20AI.ipynb\" target=\"_parent\"><img src=\"https://colab.research.google.com/assets/colab-badge.svg\" alt=\"Open In Colab\"/></a>"
      ]
    },
    {
      "cell_type": "markdown",
      "metadata": {
        "id": "d8sm8RXrkNTE"
      },
      "source": [
        "## ***Sine Graph***🤯😬\n",
        "\n",
        "---\n",
        "\n"
      ]
    },
    {
      "cell_type": "code",
      "execution_count": null,
      "metadata": {
        "id": "ZPTUE9ttYbnn"
      },
      "outputs": [],
      "source": [
        "import torch\n",
        "from torch import nn\n",
        "\n",
        "import math\n",
        "import matplotlib.pyplot as plt"
      ]
    },
    {
      "cell_type": "code",
      "execution_count": null,
      "metadata": {
        "id": "o833T-SsanNJ",
        "colab": {
          "base_uri": "https://localhost:8080/"
        },
        "outputId": "17b52ee1-62b4-42c9-8301-3b42bf16ff77"
      },
      "outputs": [
        {
          "output_type": "execute_result",
          "data": {
            "text/plain": [
              "<torch._C.Generator at 0x7f047ac49af0>"
            ]
          },
          "metadata": {},
          "execution_count": 2
        }
      ],
      "source": [
        "torch.manual_seed(111)"
      ]
    },
    {
      "cell_type": "code",
      "execution_count": null,
      "metadata": {
        "id": "tozW2n8_bagY"
      },
      "outputs": [],
      "source": [
        "train_data_length = 1024\n",
        "train_data = torch.zeros((train_data_length, 2))\n",
        "train_data[:, 0] = 2 * math.pi * torch.rand(train_data_length)\n",
        "train_data[:, 1] = torch.sin(train_data[:, 0])\n",
        "train_labels = torch.zeros(train_data_length)\n",
        "train_set = [\n",
        "    (train_data[i], train_labels[i]) for i in range(train_data_length)\n",
        "]"
      ]
    },
    {
      "cell_type": "code",
      "execution_count": null,
      "metadata": {
        "id": "Oint1ao0btgV",
        "colab": {
          "base_uri": "https://localhost:8080/",
          "height": 283
        },
        "outputId": "3702fece-c652-4030-f55a-57d5f1b9bcde"
      },
      "outputs": [
        {
          "output_type": "execute_result",
          "data": {
            "text/plain": [
              "[<matplotlib.lines.Line2D at 0x7f0479cf7ed0>]"
            ]
          },
          "metadata": {},
          "execution_count": 4
        },
        {
          "output_type": "display_data",
          "data": {
            "image/png": "[encoded data removed]",
            "text/plain": [
              "<Figure size 432x288 with 1 Axes>"
            ]
          },
          "metadata": {
            "needs_background": "light"
          }
        }
      ],
      "source": [
        "plt.plot(train_data[:, 0], train_data[:, 1], \".\")\n"
      ]
    },
    {
      "cell_type": "code",
      "execution_count": null,
      "metadata": {
        "id": "I8gm26albykI"
      },
      "outputs": [],
      "source": [
        "batch_size = 32\n",
        "train_loader = torch.utils.data.DataLoader(\n",
        "    train_set, batch_size=batch_size, shuffle=True\n",
        ")"
      ]
    },
    {
      "cell_type": "code",
      "execution_count": null,
      "metadata": {
        "id": "KakncaZmcCPF"
      },
      "outputs": [],
      "source": [
        "class Discriminator(nn.Module):\n",
        "    def __init__(self):\n",
        "        super().__init__()\n",
        "        self.model = nn.Sequential(\n",
        "            nn.Linear(2, 256),\n",
        "            nn.ReLU(),\n",
        "            nn.Dropout(0.3),\n",
        "            nn.Linear(256, 128),\n",
        "            nn.ReLU(),\n",
        "            nn.Dropout(0.3),\n",
        "            nn.Linear(128, 64),\n",
        "            nn.ReLU(),\n",
        "            nn.Dropout(0.3),\n",
        "            nn.Linear(64, 1),\n",
        "            nn.Sigmoid(),\n",
        "        )\n",
        "\n",
        "    def forward(self, x):\n",
        "        output = self.model(x)\n",
        "        return output\n",
        "discriminator = Discriminator()"
      ]
    },
    {
      "cell_type": "code",
      "execution_count": null,
      "metadata": {
        "id": "wrEMVrIRc5w-"
      },
      "outputs": [],
      "source": [
        "class Generator(nn.Module):\n",
        "    def __init__(self):\n",
        "        super().__init__()\n",
        "        self.model = nn.Sequential(\n",
        "            nn.Linear(2, 16),\n",
        "            nn.ReLU(),\n",
        "            nn.Linear(16, 32),\n",
        "            nn.ReLU(),\n",
        "            nn.Linear(32, 2),\n",
        "        )\n",
        "\n",
        "    def forward(self, x):\n",
        "        output = self.model(x)\n",
        "        return output\n",
        "\n",
        "generator = Generator()"
      ]
    },
    {
      "cell_type": "code",
      "execution_count": null,
      "metadata": {
        "id": "cEec0pGrdQHk"
      },
      "outputs": [],
      "source": [
        "learn_rt = 0.001 #0.001 0.0001\n",
        "num_epochs = 300 #500 300\n",
        "loss_function = nn.BCELoss()"
      ]
    },
    {
      "cell_type": "code",
      "execution_count": null,
      "metadata": {
        "id": "oixHoeExdoVM"
      },
      "outputs": [],
      "source": [
        "optimizer_discriminator = torch.optim.Adam(discriminator.parameters(), lr=learn_rt)\n",
        "optimizer_generator = torch.optim.Adam(generator.parameters(), lr=learn_rt)"
      ]
    },
    {
      "cell_type": "code",
      "execution_count": null,
      "metadata": {
        "id": "pO_AbVpGeln0",
        "colab": {
          "base_uri": "https://localhost:8080/"
        },
        "outputId": "39623652-72d7-4e37-e306-b4331ec7bb0c"
      },
      "outputs": [
        {
          "output_type": "stream",
          "name": "stdout",
          "text": [
            "Epoch: 0 Loss D.: 0.21308739483356476\n",
            "Epoch: 0 Loss G.: 1.7989580631256104\n",
            "Epoch: 50 Loss D.: 0.6241480708122253\n",
            "Epoch: 50 Loss G.: 0.7858664393424988\n",
            "Epoch: 100 Loss D.: 0.6943280100822449\n",
            "Epoch: 100 Loss G.: 0.6687246561050415\n",
            "Epoch: 150 Loss D.: 0.7102599740028381\n",
            "Epoch: 150 Loss G.: 0.7402819991111755\n",
            "Epoch: 200 Loss D.: 0.6603354215621948\n",
            "Epoch: 200 Loss G.: 0.8121433854103088\n",
            "Epoch: 250 Loss D.: 0.6087005138397217\n",
            "Epoch: 250 Loss G.: 0.9070661067962646\n"
          ]
        }
      ],
      "source": [
        "for epoch in range(num_epochs):\n",
        "    for n, (real_samples, _) in enumerate(train_loader):\n",
        "        # Data for training the discriminator\n",
        "        real_samples_labels = torch.ones((batch_size, 1))\n",
        "        latent_space_samples = torch.randn((batch_size, 2))\n",
        "        generated_samples = generator(latent_space_samples)\n",
        "        generated_samples_labels = torch.zeros((batch_size, 1))\n",
        "        all_samples = torch.cat((real_samples, generated_samples))\n",
        "        all_samples_labels = torch.cat(\n",
        "            (real_samples_labels, generated_samples_labels)\n",
        "        )\n",
        "\n",
        "        # Training the discriminator\n",
        "        discriminator.zero_grad()\n",
        "        output_discriminator = discriminator(all_samples)\n",
        "        loss_discriminator = loss_function(\n",
        "            output_discriminator, all_samples_labels)\n",
        "        loss_discriminator.backward()\n",
        "        optimizer_discriminator.step()\n",
        "\n",
        "        # Data for training the generator\n",
        "        latent_space_samples = torch.randn((batch_size, 2))\n",
        "\n",
        "        # Training the generator\n",
        "        generator.zero_grad()\n",
        "        generated_samples = generator(latent_space_samples)\n",
        "        output_discriminator_generated = discriminator(generated_samples)\n",
        "        loss_generator = loss_function(\n",
        "            output_discriminator_generated, real_samples_labels\n",
        "        )\n",
        "        loss_generator.backward()\n",
        "        optimizer_generator.step()\n",
        "\n",
        "        # Show loss\n",
        "        if epoch % 50 == 0 and n == batch_size - 1:\n",
        "            print(f\"Epoch: {epoch} Loss D.: {loss_discriminator}\")\n",
        "            print(f\"Epoch: {epoch} Loss G.: {loss_generator}\")"
      ]
    },
    {
      "cell_type": "code",
      "execution_count": null,
      "metadata": {
        "id": "gfVMukwShVDk"
      },
      "outputs": [],
      "source": [
        "latent_space_samples = torch.randn(100, 2)\n",
        "generated_samples = generator(latent_space_samples)"
      ]
    },
    {
      "cell_type": "code",
      "execution_count": null,
      "metadata": {
        "id": "qYHK_98NhfEr",
        "colab": {
          "base_uri": "https://localhost:8080/",
          "height": 283
        },
        "outputId": "10244090-f94f-4753-df7e-74cd00775614"
      },
      "outputs": [
        {
          "output_type": "execute_result",
          "data": {
            "text/plain": [
              "[<matplotlib.lines.Line2D at 0x7f04778790d0>]"
            ]
          },
          "metadata": {},
          "execution_count": 12
        },
        {
          "output_type": "display_data",
          "data": {
            "image/png": "[encoded data removed]",
            "text/plain": [
              "<Figure size 432x288 with 1 Axes>"
            ]
          },
          "metadata": {
            "needs_background": "light"
          }
        }
      ],
      "source": [
        "generated_samples = generated_samples.detach()\n",
        "plt.plot(generated_samples[:, 0], generated_samples[:, 1], \".\")"
      ]
    },
    {
      "cell_type": "markdown",
      "metadata": {
        "id": "p7hvs82sj3DA"
      },
      "source": [
        "## ***MNIST***🔮\n",
        "\n",
        "---\n",
        "\n"
      ]
    },
    {
      "cell_type": "code",
      "execution_count": null,
      "metadata": {
        "id": "EQSc7n0CkF5b"
      },
      "outputs": [],
      "source": [
        "import torch\n",
        "from torch import nn\n",
        "\n",
        "import math\n",
        "import matplotlib.pyplot as plt\n",
        "\n",
        "import torchvision\n",
        "import torchvision.transforms as transforms"
      ]
    },
    {
      "cell_type": "code",
      "execution_count": null,
      "metadata": {
        "colab": {
          "base_uri": "https://localhost:8080/"
        },
        "id": "6o3iZ2bwkp6D",
        "outputId": "8e263e38-213d-41d1-ecb7-6f358c4699e6"
      },
      "outputs": [
        {
          "output_type": "execute_result",
          "data": {
            "text/plain": [
              "<torch._C.Generator at 0x7fc1bec69390>"
            ]
          },
          "metadata": {},
          "execution_count": 12
        }
      ],
      "source": [
        "torch.manual_seed(111)"
      ]
    },
    {
      "cell_type": "code",
      "execution_count": null,
      "metadata": {
        "id": "QCrLG7H3r2uY"
      },
      "outputs": [],
      "source": [
        "transform = transforms.Compose(\n",
        "    [transforms.ToTensor(), transforms.Normalize((0.5,), (0.5,))]\n",
        ")"
      ]
    },
    {
      "cell_type": "code",
      "execution_count": null,
      "metadata": {
        "id": "ZPUlkHmFr3V5"
      },
      "outputs": [],
      "source": [
        "train_set = torchvision.datasets.MNIST(\n",
        "    root=\".\", train=True, download=True, transform=transform\n",
        ")"
      ]
    },
    {
      "cell_type": "code",
      "execution_count": null,
      "metadata": {
        "id": "32ma2EXBr4eg"
      },
      "outputs": [],
      "source": [
        "batch_size = 32\n",
        "train_loader = torch.utils.data.DataLoader(\n",
        "    train_set, batch_size=batch_size, shuffle=True\n",
        ")"
      ]
    },
    {
      "cell_type": "code",
      "execution_count": null,
      "metadata": {
        "colab": {
          "base_uri": "https://localhost:8080/",
          "height": 252
        },
        "id": "2wxreNJZr6mw",
        "outputId": "70328343-822c-4279-e3cc-1dd94604ce5b"
      },
      "outputs": [
        {
          "output_type": "display_data",
          "data": {
            "image/png": "[encoded data removed]",
            "text/plain": [
              "<Figure size 432x288 with 16 Axes>"
            ]
          },
          "metadata": {}
        }
      ],
      "source": [
        "real_samples, mnist_labels = next(iter(train_loader))\n",
        "for i in range(16):\n",
        "    ax = plt.subplot(4, 4, i + 1)\n",
        "    # plt.imshow(real_samples[i].reshape(28, 28), cmap=\"gray_r\")\n",
        "    plt.imshow(real_samples[i].reshape(28, 28), cmap=\"PuOr\")\n",
        "    # plt.imshow(real_samples[i].reshape(28, 28), cmap=\"magma\")\n",
        "    plt.xticks([])\n",
        "    plt.yticks([])"
      ]
    },
    {
      "cell_type": "code",
      "execution_count": null,
      "metadata": {
        "id": "crSa_pX5sCQB"
      },
      "outputs": [],
      "source": [
        "class Discriminator(nn.Module):\n",
        "    def __init__(self):\n",
        "        super().__init__()\n",
        "        self.model = nn.Sequential(\n",
        "            nn.Linear(784, 1024),\n",
        "            nn.ReLU(),\n",
        "            nn.Dropout(0.3),\n",
        "            nn.Linear(1024, 512),\n",
        "            nn.ReLU(),\n",
        "            nn.Dropout(0.3),\n",
        "            nn.Linear(512, 256),\n",
        "            nn.ReLU(),\n",
        "            nn.Dropout(0.3),\n",
        "            nn.Linear(256, 1),\n",
        "            nn.Sigmoid(),\n",
        "        )\n",
        "\n",
        "    def forward(self, x):\n",
        "        x = x.view(x.size(0), 784)\n",
        "        output = self.model(x)\n",
        "        return output\n",
        "discriminator = Discriminator()"
      ]
    },
    {
      "cell_type": "code",
      "execution_count": null,
      "metadata": {
        "id": "V7YO2i21sCxZ"
      },
      "outputs": [],
      "source": [
        "class Generator(nn.Module):\n",
        "    def __init__(self):\n",
        "        super().__init__()\n",
        "        self.model = nn.Sequential(\n",
        "            nn.Linear(100, 256),\n",
        "            nn.ReLU(),\n",
        "            nn.Linear(256, 512),\n",
        "            nn.ReLU(),\n",
        "            nn.Linear(512, 1024),\n",
        "            nn.ReLU(),\n",
        "            nn.Linear(1024, 784),\n",
        "            nn.Tanh(),\n",
        "        )\n",
        "\n",
        "    def forward(self, x):\n",
        "        output = self.model(x)\n",
        "        output = output.view(x.size(0), 1, 28, 28)\n",
        "        return output\n",
        "generator = Generator()"
      ]
    },
    {
      "cell_type": "code",
      "execution_count": null,
      "metadata": {
        "id": "lcvIho2zsEhi"
      },
      "outputs": [],
      "source": [
        "learn_rt = 0.0001\n",
        "num_epochs = 40\n",
        "loss_function = nn.BCELoss()\n",
        "\n",
        "optimizer_discriminator = torch.optim.Adam(discriminator.parameters(), lr=learn_rt)\n",
        "optimizer_generator = torch.optim.Adam(generator.parameters(), lr=learn_rt)"
      ]
    },
    {
      "cell_type": "code",
      "execution_count": null,
      "metadata": {
        "colab": {
          "base_uri": "https://localhost:8080/"
        },
        "id": "04A5wElTsFvJ",
        "outputId": "dda8ba91-bb81-4c08-e529-fa2e1caea465"
      },
      "outputs": [
        {
          "output_type": "stream",
          "name": "stdout",
          "text": [
            "Epoch: 0\n",
            "Loss Discriminator: 56.92477226257324 %\n",
            "Loss Generator: 47.79079854488373 %\n",
            "Epoch: 1\n",
            "Loss Discriminator: 6.096680834889412 %\n",
            "Loss Generator: 383.33747386932373 %\n",
            "Epoch: 2\n",
            "Loss Discriminator: 1.1416684836149216 %\n",
            "Loss Generator: 540.3036594390869 %\n",
            "Epoch: 3\n",
            "Loss Discriminator: 4.152332618832588 %\n",
            "Loss Generator: 513.4734630584717 %\n",
            "Epoch: 4\n",
            "Loss Discriminator: 0.6647448055446148 %\n",
            "Loss Generator: 672.7372169494629 %\n",
            "Epoch: 5\n",
            "Loss Discriminator: 8.717642724514008 %\n",
            "Loss Generator: 458.12854766845703 %\n",
            "Epoch: 6\n",
            "Loss Discriminator: 17.70595908164978 %\n",
            "Loss Generator: 309.75842475891113 %\n",
            "Epoch: 7\n",
            "Loss Discriminator: 6.6467322409152985 %\n",
            "Loss Generator: 317.82543659210205 %\n",
            "Epoch: 8\n",
            "Loss Discriminator: 16.090232133865356 %\n",
            "Loss Generator: 282.78183937072754 %\n",
            "Epoch: 9\n",
            "Loss Discriminator: 43.48783791065216 %\n",
            "Loss Generator: 235.54561138153076 %\n",
            "Epoch: 10\n",
            "Loss Discriminator: 33.88947546482086 %\n",
            "Loss Generator: 191.12112522125244 %\n",
            "Epoch: 11\n",
            "Loss Discriminator: 38.758739829063416 %\n",
            "Loss Generator: 159.78403091430664 %\n",
            "Epoch: 12\n",
            "Loss Discriminator: 28.04984450340271 %\n",
            "Loss Generator: 130.75517416000366 %\n",
            "Epoch: 13\n",
            "Loss Discriminator: 28.88924479484558 %\n",
            "Loss Generator: 194.18694972991943 %\n",
            "Epoch: 14\n",
            "Loss Discriminator: 38.72918784618378 %\n",
            "Loss Generator: 177.04230546951294 %\n",
            "Epoch: 15\n",
            "Loss Discriminator: 37.05201745033264 %\n",
            "Loss Generator: 159.43493843078613 %\n",
            "Epoch: 16\n",
            "Loss Discriminator: 41.59797728061676 %\n",
            "Loss Generator: 145.39268016815186 %\n",
            "Epoch: 17\n",
            "Loss Discriminator: 52.033448219299316 %\n",
            "Loss Generator: 117.88538694381714 %\n",
            "Epoch: 18\n",
            "Loss Discriminator: 34.477344155311584 %\n",
            "Loss Generator: 133.80500078201294 %\n",
            "Epoch: 19\n",
            "Loss Discriminator: 42.11771488189697 %\n",
            "Loss Generator: 129.41396236419678 %\n",
            "Epoch: 20\n",
            "Loss Discriminator: 44.788357615470886 %\n",
            "Loss Generator: 106.09703063964844 %\n",
            "Epoch: 21\n",
            "Loss Discriminator: 49.35481548309326 %\n",
            "Loss Generator: 145.67853212356567 %\n",
            "Epoch: 22\n",
            "Loss Discriminator: 54.729461669921875 %\n",
            "Loss Generator: 124.59466457366943 %\n",
            "Epoch: 23\n",
            "Loss Discriminator: 54.9191415309906 %\n",
            "Loss Generator: 141.25232696533203 %\n",
            "Epoch: 24\n",
            "Loss Discriminator: 48.56700599193573 %\n",
            "Loss Generator: 137.97121047973633 %\n",
            "Epoch: 25\n",
            "Loss Discriminator: 51.49543285369873 %\n",
            "Loss Generator: 151.6983151435852 %\n",
            "Epoch: 26\n",
            "Loss Discriminator: 45.177194476127625 %\n",
            "Loss Generator: 142.89401769638062 %\n",
            "Epoch: 27\n",
            "Loss Discriminator: 51.514166593551636 %\n",
            "Loss Generator: 110.48251390457153 %\n",
            "Epoch: 28\n",
            "Loss Discriminator: 50.838881731033325 %\n",
            "Loss Generator: 119.17883157730103 %\n",
            "Epoch: 29\n",
            "Loss Discriminator: 50.305092334747314 %\n",
            "Loss Generator: 109.96342897415161 %\n",
            "Epoch: 30\n",
            "Loss Discriminator: 53.23149561882019 %\n",
            "Loss Generator: 138.30811977386475 %\n",
            "Epoch: 31\n",
            "Loss Discriminator: 39.61144983768463 %\n",
            "Loss Generator: 124.86110925674438 %\n",
            "Epoch: 32\n",
            "Loss Discriminator: 52.84208059310913 %\n",
            "Loss Generator: 119.60629224777222 %\n",
            "Epoch: 33\n",
            "Loss Discriminator: 43.69441866874695 %\n",
            "Loss Generator: 122.2500205039978 %\n",
            "Epoch: 34\n",
            "Loss Discriminator: 56.57820701599121 %\n",
            "Loss Generator: 110.16465425491333 %\n",
            "Epoch: 35\n",
            "Loss Discriminator: 42.430493235588074 %\n",
            "Loss Generator: 111.10070943832397 %\n",
            "Epoch: 36\n",
            "Loss Discriminator: 64.04051780700684 %\n",
            "Loss Generator: 121.83927297592163 %\n",
            "Epoch: 37\n",
            "Loss Discriminator: 54.84716296195984 %\n",
            "Loss Generator: 119.86281871795654 %\n",
            "Epoch: 38\n",
            "Loss Discriminator: 46.148109436035156 %\n",
            "Loss Generator: 122.91185855865479 %\n",
            "Epoch: 39\n",
            "Loss Discriminator: 56.35249614715576 %\n",
            "Loss Generator: 112.70782947540283 %\n"
          ]
        }
      ],
      "source": [
        "for epoch in range(num_epochs):\n",
        "    for n, (real_samples, mnist_labels) in enumerate(train_loader):\n",
        "        # Data for training the discriminator\n",
        "        real_samples = real_samples\n",
        "        real_samples_labels = torch.ones((batch_size, 1))\n",
        "        latent_space_samples = torch.randn((batch_size, 100))\n",
        "        generated_samples = generator(latent_space_samples)\n",
        "        generated_samples_labels = torch.zeros((batch_size, 1))\n",
        "        all_samples = torch.cat((real_samples, generated_samples))\n",
        "        all_samples_labels = torch.cat(\n",
        "            (real_samples_labels, generated_samples_labels)\n",
        "        )\n",
        "\n",
        "        # Training the discriminator\n",
        "        discriminator.zero_grad()\n",
        "        output_discriminator = discriminator(all_samples)\n",
        "        loss_discriminator = loss_function(\n",
        "            output_discriminator, all_samples_labels\n",
        "        )\n",
        "        loss_discriminator.backward()\n",
        "        optimizer_discriminator.step()\n",
        "\n",
        "        # Data for training the generator\n",
        "        latent_space_samples = torch.randn((batch_size, 100))\n",
        "\n",
        "        # Training the generator\n",
        "        generator.zero_grad()\n",
        "        generated_samples = generator(latent_space_samples)\n",
        "        output_discriminator_generated = discriminator(generated_samples)\n",
        "        loss_generator = loss_function(\n",
        "            output_discriminator_generated, real_samples_labels\n",
        "        )\n",
        "        loss_generator.backward()\n",
        "        optimizer_generator.step()\n",
        "        # Show loss\n",
        "        if n == batch_size - 1:\n",
        "            loss_d = float(loss_discriminator)\n",
        "            loss_g = float(loss_generator)\n",
        "            print(f\"Epoch: {epoch}\")\n",
        "            print(f\"Loss Discriminator:\", loss_d*100, \"%\")\n",
        "            print(f\"Loss Generator:\", loss_g*100, \"%\")"
      ]
    },
    {
      "cell_type": "code",
      "execution_count": null,
      "metadata": {
        "id": "z3-PvnQSuOH5"
      },
      "outputs": [],
      "source": [
        "latent_space_samples = torch.randn(batch_size, 100)\n",
        "generated_samples = generator(latent_space_samples)"
      ]
    },
    {
      "cell_type": "code",
      "execution_count": null,
      "metadata": {
        "id": "XtkffOz8uOe7",
        "colab": {
          "base_uri": "https://localhost:8080/",
          "height": 252
        },
        "outputId": "49bd3390-78bf-4503-e962-91a184bf032e"
      },
      "outputs": [
        {
          "output_type": "display_data",
          "data": {
            "image/png": "[encoded data removed]",
            "text/plain": [
              "<Figure size 432x288 with 16 Axes>"
            ]
          },
          "metadata": {}
        }
      ],
      "source": [
        "generated_samples = generated_samples.cpu().detach()\n",
        "for i in range(16):\n",
        "    ax = plt.subplot(4, 4, i + 1)\n",
        "    plt.imshow(generated_samples[i].reshape(28, 28), cmap=\"gray_r\")\n",
        "    plt.xticks([])\n",
        "    plt.yticks([])"
      ]
    },
    {
      "cell_type": "markdown",
      "metadata": {
        "id": "TX4r1BA5uX5D"
      },
      "source": [
        "## ***Persian NUM***\n",
        "\n",
        "---\n",
        "\n"
      ]
    },
    {
      "cell_type": "code",
      "execution_count": null,
      "metadata": {
        "colab": {
          "base_uri": "https://localhost:8080/",
          "height": 374
        },
        "id": "YZ9CoqzquXY4",
        "outputId": "31525677-0f35-4e4f-972c-6b5fcdb884cd"
      },
      "outputs": [
        {
          "output_type": "error",
          "ename": "ModuleNotFoundError",
          "evalue": "ignored",
          "traceback": [
            "\u001b[0;31m---------------------------------------------------------------------------\u001b[0m",
            "\u001b[0;31mModuleNotFoundError\u001b[0m                       Traceback (most recent call last)",
            "\u001b[0;32m<ipython-input-45-1e5725478f90>\u001b[0m in \u001b[0;36m<module>\u001b[0;34m()\u001b[0m\n\u001b[1;32m      8\u001b[0m \u001b[0;32mfrom\u001b[0m \u001b[0mtensorflow\u001b[0m\u001b[0;34m.\u001b[0m\u001b[0mpython\u001b[0m\u001b[0;34m.\u001b[0m\u001b[0mtools\u001b[0m \u001b[0;32mimport\u001b[0m \u001b[0mfreeze_graph\u001b[0m\u001b[0;34m\u001b[0m\u001b[0;34m\u001b[0m\u001b[0m\n\u001b[1;32m      9\u001b[0m \u001b[0;32mfrom\u001b[0m \u001b[0mtensorflow\u001b[0m\u001b[0;34m.\u001b[0m\u001b[0mpython\u001b[0m\u001b[0;34m.\u001b[0m\u001b[0mtools\u001b[0m \u001b[0;32mimport\u001b[0m \u001b[0moptimize_for_inference_lib\u001b[0m\u001b[0;34m\u001b[0m\u001b[0;34m\u001b[0m\u001b[0m\n\u001b[0;32m---> 10\u001b[0;31m \u001b[0;32mimport\u001b[0m \u001b[0mtensorflow\u001b[0m\u001b[0;34m.\u001b[0m\u001b[0mexamples\u001b[0m\u001b[0;34m.\u001b[0m\u001b[0mtutorials\u001b[0m\u001b[0;34m.\u001b[0m\u001b[0mmnist\u001b[0m\u001b[0;34m.\u001b[0m\u001b[0minput_data\u001b[0m \u001b[0;32mas\u001b[0m \u001b[0minput_data\u001b[0m\u001b[0;34m\u001b[0m\u001b[0;34m\u001b[0m\u001b[0m\n\u001b[0m\u001b[1;32m     11\u001b[0m \u001b[0;32mimport\u001b[0m \u001b[0minput_data\u001b[0m\u001b[0;34m\u001b[0m\u001b[0;34m\u001b[0m\u001b[0m\n\u001b[1;32m     12\u001b[0m \u001b[0;31m# from tensorflow.examples.tutorials.mnist import input_data\u001b[0m\u001b[0;34m\u001b[0m\u001b[0;34m\u001b[0m\u001b[0;34m\u001b[0m\u001b[0m\n",
            "\u001b[0;31mModuleNotFoundError\u001b[0m: No module named 'tensorflow.examples'",
            "",
            "\u001b[0;31m---------------------------------------------------------------------------\u001b[0;32m\nNOTE: If your import is failing due to a missing package, you can\nmanually install dependencies using either !pip or !apt.\n\nTo view examples of installing some common dependencies, click the\n\"Open Examples\" button below.\n\u001b[0;31m---------------------------------------------------------------------------\u001b[0m\n"
          ],
          "errorDetails": {
            "actions": [
              {
                "action": "open_url",
                "actionText": "Open Examples",
                "url": "/notebooks/snippets/importing_libraries.ipynb"
              }
            ]
          }
        }
      ],
      "source": [
        "# Python 3.6.0\n",
        "# tensorflow 1.1.0\n",
        "\n",
        "import os\n",
        "import os.path as path\n",
        "\n",
        "import tensorflow as tf\n",
        "from tensorflow.python.tools import freeze_graph\n",
        "from tensorflow.python.tools import optimize_for_inference_lib\n",
        "# import tensorflow.examples.tutorials.mnist.input_data as input_data\n",
        "from tensorflow.examples.tutorials.mnist import input_data\n",
        "\n",
        "MODEL_NAME = 'mnist_convnet'\n",
        "NUM_STEPS = 3000\n",
        "BATCH_SIZE = 16\n",
        "\n",
        "def model_input(input_node_name, keep_prob_node_name):\n",
        "    x = tf.placeholder(tf.float32, shape=[None, 28*28], name=input_node_name)\n",
        "    keep_prob = tf.placeholder(tf.float32, name=keep_prob_node_name)\n",
        "    y_ = tf.placeholder(tf.float32, shape=[None, 10])\n",
        "    return x, keep_prob, y_\n",
        "\n",
        "def build_model(x, keep_prob, y_, output_node_name):\n",
        "    x_image = tf.reshape(x, [-1, 28, 28, 1])\n",
        "    # 28*28*1\n",
        "\n",
        "    conv1 = tf.layers.conv2d(x_image, 64, 3, 1, 'same', activation=tf.nn.relu)\n",
        "    # 28*28*64\n",
        "    pool1 = tf.layers.max_pooling2d(conv1, 2, 2, 'same')\n",
        "    # 14*14*64\n",
        "\n",
        "    conv2 = tf.layers.conv2d(pool1, 128, 3, 1, 'same', activation=tf.nn.relu)\n",
        "    # 14*14*128\n",
        "    pool2 = tf.layers.max_pooling2d(conv2, 2, 2, 'same')\n",
        "    # 7*7*128\n",
        "\n",
        "    conv3 = tf.layers.conv2d(pool2, 256, 3, 1, 'same', activation=tf.nn.relu)\n",
        "    # 7*7*256\n",
        "    pool3 = tf.layers.max_pooling2d(conv3, 2, 2, 'same')\n",
        "    # 4*4*256\n",
        "\n",
        "    flatten = tf.reshape(pool3, [-1, 4*4*256])\n",
        "    fc = tf.layers.dense(flatten, 1024, activation=tf.nn.relu)\n",
        "    dropout = tf.nn.dropout(fc, keep_prob)\n",
        "    logits = tf.layers.dense(dropout, 10)\n",
        "    outputs = tf.nn.softmax(logits, name=output_node_name)\n",
        "\n",
        "    # loss\n",
        "    loss = tf.reduce_mean(\n",
        "        tf.nn.softmax_cross_entropy_with_logits(labels=y_, logits=logits))\n",
        "\n",
        "    # train step\n",
        "    train_step = tf.train.AdamOptimizer(1e-4).minimize(loss)\n",
        "\n",
        "    # accuracy\n",
        "    correct_prediction = tf.equal(tf.argmax(outputs, 1), tf.argmax(y_, 1))\n",
        "    accuracy = tf.reduce_mean(tf.cast(correct_prediction, tf.float32))\n",
        "\n",
        "    tf.summary.scalar(\"loss\", loss)\n",
        "    tf.summary.scalar(\"accuracy\", accuracy)\n",
        "    merged_summary_op = tf.summary.merge_all()\n",
        "\n",
        "    return train_step, loss, accuracy, merged_summary_op\n",
        "\n",
        "def train(x, keep_prob, y_, train_step, loss, accuracy,\n",
        "        merged_summary_op, saver):\n",
        "    print(\"training start...\")\n",
        "\n",
        "    mnist = input_data.read_data_sets(\"MNIST_data/\", one_hot=True)\n",
        "\n",
        "    init_op = tf.global_variables_initializer()\n",
        "\n",
        "    with tf.Session() as sess:\n",
        "        sess.run(init_op)\n",
        "\n",
        "        tf.train.write_graph(sess.graph_def, 'out',\n",
        "            MODEL_NAME + '.pbtxt', True)\n",
        "\n",
        "        # op to write logs to Tensorboard\n",
        "        summary_writer = tf.summary.FileWriter('logs/',\n",
        "            graph=tf.get_default_graph())\n",
        "\n",
        "        for step in range(NUM_STEPS):\n",
        "            batch = mnist.train.next_batch(BATCH_SIZE)\n",
        "            if step % 100 == 0:\n",
        "                train_accuracy = accuracy.eval(feed_dict={\n",
        "                    x: batch[0], y_: batch[1], keep_prob: 1.0})\n",
        "                print('step %d, training accuracy %f' % (step, train_accuracy))\n",
        "            _, summary = sess.run([train_step, merged_summary_op],\n",
        "                feed_dict={x: batch[0], y_: batch[1], keep_prob: 0.5})\n",
        "            summary_writer.add_summary(summary, step)\n",
        "\n",
        "        saver.save(sess, 'out/' + MODEL_NAME + '.chkp')\n",
        "\n",
        "        test_accuracy = accuracy.eval(feed_dict={x: mnist.test.images,\n",
        "                                    y_: mnist.test.labels,\n",
        "                                    keep_prob: 1.0})\n",
        "        print('test accuracy %g' % test_accuracy)\n",
        "\n",
        "    print(\"training finished!\")\n",
        "\n",
        "def export_model(input_node_names, output_node_name):\n",
        "    freeze_graph.freeze_graph('out/' + MODEL_NAME + '.pbtxt', None, False,\n",
        "        'out/' + MODEL_NAME + '.chkp', output_node_name, \"save/restore_all\",\n",
        "        \"save/Const:0\", 'out/frozen_' + MODEL_NAME + '.pb', True, \"\")\n",
        "\n",
        "    input_graph_def = tf.GraphDef()\n",
        "    with tf.gfile.Open('out/frozen_' + MODEL_NAME + '.pb', \"rb\") as f:\n",
        "        input_graph_def.ParseFromString(f.read())\n",
        "\n",
        "    output_graph_def = optimize_for_inference_lib.optimize_for_inference(\n",
        "            input_graph_def, input_node_names, [output_node_name],\n",
        "            tf.float32.as_datatype_enum)\n",
        "\n",
        "    with tf.gfile.FastGFile('out/opt_' + MODEL_NAME + '.pb', \"wb\") as f:\n",
        "        f.write(output_graph_def.SerializeToString())\n",
        "\n",
        "    print(\"graph saved!\")\n",
        "\n",
        "def main():\n",
        "    if not path.exists('out'):\n",
        "        os.mkdir('out')\n",
        "\n",
        "    input_node_name = 'input'\n",
        "    keep_prob_node_name = 'keep_prob'\n",
        "    output_node_name = 'output'\n",
        "\n",
        "    x, keep_prob, y_ = model_input(input_node_name, keep_prob_node_name)\n",
        "\n",
        "    train_step, loss, accuracy, merged_summary_op = build_model(x, keep_prob,\n",
        "        y_, output_node_name)\n",
        "    saver = tf.train.Saver()\n",
        "\n",
        "    train(x, keep_prob, y_, train_step, loss, accuracy,\n",
        "        merged_summary_op, saver)\n",
        "\n",
        "    export_model([input_node_name, keep_prob_node_name], output_node_name)\n",
        "\n",
        "if __name__ == '__main__':\n",
        "    main()"
      ]
    }
  ],
  "metadata": {
    "accelerator": "GPU",
    "colab": {
      "collapsed_sections": [
        "d8sm8RXrkNTE",
        "p7hvs82sj3DA"
      ],
      "name": "AI vs. AI - GANs in AI.ipynb",
      "provenance": [],
      "authorship_tag": "ABX9TyPdZ/ASeaDlmrMJHwAFl67O",
      "include_colab_link": true
    },
    "kernelspec": {
      "display_name": "Python 3",
      "name": "python3"
    },
    "language_info": {
      "name": "python"
    }
  },
  "nbformat": 4,
  "nbformat_minor": 0
}